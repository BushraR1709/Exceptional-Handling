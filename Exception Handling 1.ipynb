{
 "cells": [
  {
   "cell_type": "markdown",
   "id": "0012a37e-b221-4682-80e8-fb2171abc2e8",
   "metadata": {},
   "source": [
    "Q1. What is an Exception in python ? Write the difference between Exceptions and Syntax errors. "
   ]
  },
  {
   "cell_type": "code",
   "execution_count": null,
   "id": "4484cab8-17e4-48b8-acd0-3fa3bb1300e8",
   "metadata": {},
   "outputs": [],
   "source": [
    "#Exceptions are a fundamental part of error handling and robust programming in Python. \n",
    "#Exceptions are used to handle errors that may arise during the execution\n",
    "#of a Python program. When an exceptional situation occurs, Python raises an exception,\n",
    "#and allow you to handle errors gracefully and respond to unexpected situations in your code to prevent crashes or unexpected behavior.\n",
    "\n",
    "#Syntax Errors: Syntax errors include forgetting to close a parenthesis or forgetting coma or colon,\n",
    "#using a reserved keyword as a variable name, or using incorrect indentation.\n",
    "#Syntax errors must be fixed in the code before the program can be executed.\n",
    "\n",
    "example -\n",
    "if 2 < 1\n",
    "print('2 is smaller')\n",
    "\n",
    "# we have seen in the above example colon (:) is missing and indentation is also missing.\n",
    "\n",
    "\n",
    "#Exceptions: Examples of exceptions include ZeroDivisionError (dividing by zero), IndexError (index out of range),\n",
    "#FileNotFoundError (attempting to open a non-existent file), and ValueError (inappropriate argument value).\n",
    "\n",
    "example -\n",
    "def num(DividedBy):\n",
    "    return 20/DividedBy\n",
    "num(0)\n",
    "\n",
    "#We have seen in the above example we are trying to divide with zero. It will throw ZeroDivisionError \n"
   ]
  },
  {
   "cell_type": "markdown",
   "id": "f8ea5c66-570a-4b1d-a938-f86d3bce5b40",
   "metadata": {},
   "source": [
    "Q2. What happens when an exception in not handled ? Explain with an example."
   ]
  },
  {
   "cell_type": "code",
   "execution_count": 9,
   "id": "2a6e1f24-1d4c-42f3-be29-c5ee19d1e195",
   "metadata": {},
   "outputs": [
    {
     "ename": "ZeroDivisionError",
     "evalue": "division by zero",
     "output_type": "error",
     "traceback": [
      "\u001b[0;31m---------------------------------------------------------------------------\u001b[0m",
      "\u001b[0;31mZeroDivisionError\u001b[0m                         Traceback (most recent call last)",
      "Cell \u001b[0;32mIn[9], line 6\u001b[0m\n\u001b[1;32m      3\u001b[0m     \u001b[38;5;28;01mreturn\u001b[39;00m x \u001b[38;5;241m/\u001b[39m y\n\u001b[1;32m      5\u001b[0m \u001b[38;5;28;01mtry\u001b[39;00m:\n\u001b[0;32m----> 6\u001b[0m     result \u001b[38;5;241m=\u001b[39m \u001b[43mdivide\u001b[49m\u001b[43m(\u001b[49m\u001b[38;5;241;43m10\u001b[39;49m\u001b[43m,\u001b[49m\u001b[43m \u001b[49m\u001b[38;5;241;43m0\u001b[39;49m\u001b[43m)\u001b[49m  \u001b[38;5;66;03m# This will raise a ZeroDivisionError\u001b[39;00m\n\u001b[1;32m      7\u001b[0m \u001b[38;5;28;01mexcept\u001b[39;00m \u001b[38;5;167;01mValueError\u001b[39;00m \u001b[38;5;28;01mas\u001b[39;00m e:\n\u001b[1;32m      8\u001b[0m     \u001b[38;5;28mprint\u001b[39m(\u001b[38;5;124m\"\u001b[39m\u001b[38;5;124mValueError:\u001b[39m\u001b[38;5;124m\"\u001b[39m, e)\n",
      "Cell \u001b[0;32mIn[9], line 3\u001b[0m, in \u001b[0;36mdivide\u001b[0;34m(x, y)\u001b[0m\n\u001b[1;32m      2\u001b[0m \u001b[38;5;28;01mdef\u001b[39;00m \u001b[38;5;21mdivide\u001b[39m(x, y):\n\u001b[0;32m----> 3\u001b[0m     \u001b[38;5;28;01mreturn\u001b[39;00m \u001b[43mx\u001b[49m\u001b[43m \u001b[49m\u001b[38;5;241;43m/\u001b[39;49m\u001b[43m \u001b[49m\u001b[43my\u001b[49m\n",
      "\u001b[0;31mZeroDivisionError\u001b[0m: division by zero"
     ]
    }
   ],
   "source": [
    "#When an exception is not handled in a Python program the program doesn't stop the error from occurring.\n",
    "def divide(x, y):\n",
    "    return x / y\n",
    "\n",
    "try:\n",
    "    result = divide(10, 0)  # This will raise a ZeroDivisionError\n",
    "except ValueError as e:\n",
    "    print(\"ValueError:\", e)\n",
    "\n",
    "# The exception is not caught here\n",
    "print(\"Program continues...\")\n",
    "\n",
    "# This line will never be reached because of the unhandled exception\n"
   ]
  },
  {
   "cell_type": "markdown",
   "id": "a2f41778-eb77-4293-8907-68b89d06ae3b",
   "metadata": {},
   "source": [
    "Q3. Which Python statements are used to catch and handle exceptions ? Explain with an example."
   ]
  },
  {
   "cell_type": "code",
   "execution_count": 7,
   "id": "4ca69ee2-c670-4b82-9703-31a8e1f4fbe0",
   "metadata": {},
   "outputs": [
    {
     "name": "stdin",
     "output_type": "stream",
     "text": [
      "Enter a number:  0\n"
     ]
    },
    {
     "name": "stdout",
     "output_type": "stream",
     "text": [
      "Error: Division by zero is not allowed.\n"
     ]
    }
   ],
   "source": [
    "#In Python, we can catch and handle exceptions using try and except statements.\n",
    "#try: try block contains the code that might raise an exception\n",
    "#except: this code is only executed if an exception occured in the try block. The except block is required with a try block, \n",
    "#even if it contains only the pass statement.\n",
    "\n",
    "#example\n",
    "try:\n",
    "    num = int(input(\"Enter a number: \"))\n",
    "    result = 10 / num\n",
    "except ZeroDivisionError as e:\n",
    "    print(\"Error: Division by zero is not allowed.\")\n",
    "except ValueError as e:\n",
    "    print(\"Error: Please enter a valid number.\")\n",
    "except Exception as e:\n",
    "    print(\"An unexpected error occurred:\", e)\n",
    "else:\n",
    "    print(result)\n"
   ]
  },
  {
   "cell_type": "markdown",
   "id": "169a8539-0f11-4cf5-8f1c-f22b8783c785",
   "metadata": {},
   "source": [
    "Q4. Explain with an example:\n",
    "      a. try and else.\n",
    "        b. finally.\n",
    "         c. raise."
   ]
  },
  {
   "cell_type": "code",
   "execution_count": 8,
   "id": "f6dc19bf-93d2-47d6-b5be-6a8abb8a76f7",
   "metadata": {},
   "outputs": [
    {
     "name": "stdout",
     "output_type": "stream",
     "text": [
      "This is try block\n",
      "Else will execute with try block\n",
      "This is try block\n",
      "Else will execute with try block\n",
      "Finally block will execute everytime with or without error\n"
     ]
    }
   ],
   "source": [
    "# a. try and else\n",
    "# try block contains the whole code and else execute with try. If try raise an error then else won't execute.\n",
    "try:\n",
    "    print('This is try block')\n",
    "except Exception as e:\n",
    "    print('Error occured')\n",
    "else:\n",
    "    print('Else will execute with try block')\n",
    "        \n",
    "        \n",
    "    \n",
    "    \n",
    "#b. finally\n",
    "#   finally block dont need any succesful execution of code it will execute each and every time with or without error.\n",
    "    \n",
    "try:\n",
    "    print('This is try block')\n",
    "except Exception as e:\n",
    "    print('Error occured')\n",
    "else:\n",
    "    print('Else will execute with try block')\n",
    "finally:\n",
    "    print('Finally block will execute everytime with or without error')\n",
    "    \n",
    "\n",
    "   "
   ]
  },
  {
   "cell_type": "code",
   "execution_count": 33,
   "id": "2cd6a5a8-80c6-495c-9acf-9c07ca02b81b",
   "metadata": {},
   "outputs": [],
   "source": [
    "#c. raise\n",
    "#  The raise keyword is used to raise an exception. And we can define what kind of error to raise, and the text to print to the user.\n",
    "class Marks(Exception):\n",
    "    def __init__(self,msg):\n",
    "        self.msg = msg\n",
    "    "
   ]
  },
  {
   "cell_type": "code",
   "execution_count": 36,
   "id": "53dd7077-3f21-4ff2-8718-b53812c8882c",
   "metadata": {},
   "outputs": [
    {
     "name": "stdin",
     "output_type": "stream",
     "text": [
      "Enter your marks here  -90\n"
     ]
    },
    {
     "name": "stdout",
     "output_type": "stream",
     "text": [
      "Please enter in positive\n"
     ]
    }
   ],
   "source": [
    "def checkmark(m):\n",
    "    if m < 0:\n",
    "        raise Marks('Please enter in positive')\n",
    "    else:\n",
    "        print(f'Your marks is {m}') \n",
    "try:\n",
    "    Enter = int(input(\"Enter your marks here \"))\n",
    "    checkmark(Enter)\n",
    "except Marks as e:\n",
    "    print(e)"
   ]
  },
  {
   "cell_type": "markdown",
   "id": "2def6589-2c13-4c0e-b5e0-33d31a447e49",
   "metadata": {},
   "source": [
    "Q5. What are Custom Exceptions in python ? Why do we need custom exceptions in python ? Explain with an example."
   ]
  },
  {
   "cell_type": "code",
   "execution_count": 7,
   "id": "1ad028d6-6731-493c-ba42-99e136fce7be",
   "metadata": {},
   "outputs": [
    {
     "name": "stdin",
     "output_type": "stream",
     "text": [
      "Enter a positive number:  -9\n"
     ]
    },
    {
     "name": "stdout",
     "output_type": "stream",
     "text": [
      "Error: -9\n"
     ]
    }
   ],
   "source": [
    "# Custom exception is a user defined exception\n",
    "# we can define custom exceptions by creating a new class that is derived from the built-in Exception class.\n",
    "\n",
    "# We use Custom exceptions in Python because they allow us to create and raise exceptions that are specific to our program.\n",
    "\n",
    "# example-\n",
    "class CustomValueError(ValueError):\n",
    "    def __init__(self, value):\n",
    "        self.value = value\n",
    "        \n",
    "    def validate_input(value):\n",
    "        if value < 0:\n",
    "            raise CustomValueError(value)\n",
    "\n",
    "    try:\n",
    "        user_input = int(input(\"Enter a positive number: \"))\n",
    "        validate_input(user_input)\n",
    "        print(\"Input is valid:\", user_input)\n",
    "    except CustomValueError as e:\n",
    "        print(\"Error:\", e)\n",
    "\n"
   ]
  },
  {
   "cell_type": "markdown",
   "id": "b87c7ab8-b5a2-4415-b771-b6996df4a099",
   "metadata": {},
   "source": [
    "Q6. Create a custom exception class. Use this class to handle an exception."
   ]
  },
  {
   "cell_type": "code",
   "execution_count": 27,
   "id": "760458c2-424e-493e-84da-f42e6f70b2df",
   "metadata": {},
   "outputs": [],
   "source": [
    "class CustomValueError(Exception):\n",
    "    def __init__(self, value):\n",
    "        self.value = value"
   ]
  },
  {
   "cell_type": "code",
   "execution_count": 32,
   "id": "4bad37c5-9580-4abf-b8e5-1d3b4a1dc2d6",
   "metadata": {},
   "outputs": [
    {
     "name": "stdin",
     "output_type": "stream",
     "text": [
      "Enter the numerator:  2\n",
      "Enter the denominator:  0\n"
     ]
    },
    {
     "name": "stdout",
     "output_type": "stream",
     "text": [
      "Error: Can't divide by zero\n"
     ]
    }
   ],
   "source": [
    "def divide_numbers(x, y):\n",
    "    if y == 0:\n",
    "        raise CustomValueError(\"Can't divide by zero\")\n",
    "    return x / y\n",
    "\n",
    "try:\n",
    "    num1 = int(input(\"Enter the numerator: \"))\n",
    "    num2 = int(input(\"Enter the denominator: \"))\n",
    "    \n",
    "    result = divide_numbers(num1, num2)\n",
    "    \n",
    "    print(\"Result:\", result)\n",
    "except CustomValueError as e:\n",
    "    print(\"Error:\", e)"
   ]
  },
  {
   "cell_type": "code",
   "execution_count": null,
   "id": "857e498b-1bd3-4782-a74b-0f5e953604e4",
   "metadata": {},
   "outputs": [],
   "source": []
  }
 ],
 "metadata": {
  "kernelspec": {
   "display_name": "Python 3 (ipykernel)",
   "language": "python",
   "name": "python3"
  },
  "language_info": {
   "codemirror_mode": {
    "name": "ipython",
    "version": 3
   },
   "file_extension": ".py",
   "mimetype": "text/x-python",
   "name": "python",
   "nbconvert_exporter": "python",
   "pygments_lexer": "ipython3",
   "version": "3.10.8"
  }
 },
 "nbformat": 4,
 "nbformat_minor": 5
}
